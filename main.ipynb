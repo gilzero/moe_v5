{
 "cells": [
  {
   "cell_type": "code",
   "execution_count": null,
   "id": "19e18b98-bd10-4038-97d7-d85d733ddbf3",
   "metadata": {
    "ExecuteTime": {
     "end_time": "2025-01-14T07:22:32.447740Z",
     "start_time": "2025-01-14T07:22:32.445010Z"
    }
   },
   "outputs": [],
   "source": []
  },
  {
   "cell_type": "markdown",
   "id": "46507b72-82db-442d-a1a4-034e3e0aed43",
   "metadata": {},
   "source": [
    "## Introduction: Multi-Agent Orchestration System\n",
    "\n",
    "This notebook implements a Multi-Agent Orchestration (MOE) system leveraging different Large Language Models (LLMs). The system is designed to process a given query by orchestrating multiple expert agents, each having a unique style. It will gather insights, generate consensus, create visualizations, perform detailed analysis, suggest related questions, and finally perform meta-analysis.\n",
    "\n",
    "We'll start by setting up the necessary environment, loading libraries, and configuring logging."
   ]
  },
  {
   "cell_type": "code",
   "execution_count": 1,
   "id": "274ef34c-d4b8-4e1c-b6ae-a7a2713ece24",
   "metadata": {
    "ExecuteTime": {
     "end_time": "2025-01-14T07:24:44.181616Z",
     "start_time": "2025-01-14T07:24:44.174516Z"
    }
   },
   "outputs": [],
   "source": [
    "import os\n",
    "from dotenv import load_dotenv\n",
    "from langchain_openai import ChatOpenAI\n",
    "from langchain_anthropic import ChatAnthropic\n",
    "from langchain_xai import ChatXAI\n",
    "from langchain_google_genai import ChatGoogleGenerativeAI\n",
    "from typing import Dict, Callable, List, Tuple, Any\n",
    "import logging\n",
    "from rich.console import Console\n",
    "from rich.markdown import Markdown\n",
    "import yaml\n",
    "from dataclasses import dataclass\n",
    "import asyncio\n",
    "import json\n",
    "from IPython.display import display, Markdown as ipyMarkdown\n",
    "from rich.panel import Panel\n",
    "from rich.text import Text\n",
    "\n",
    "# Load environment variables from .env file\n",
    "load_dotenv()\n",
    "\n",
    "# Configure logging\n",
    "logging.basicConfig(level=logging.INFO, format='%(asctime)s - %(levelname)s - %(message)s',\n",
    "                    handlers=[logging.FileHandler(\"moe_v5.log\"), logging.StreamHandler()])\n",
    "\n",
    "# Initialize Console for rich output\n",
    "console = Console()"
   ]
  },
  {
   "cell_type": "markdown",
   "id": "d10f6885-5f7a-4f79-b955-50c66c0891fa",
   "metadata": {},
   "source": [
    "## Configuration Loading and API Keys\n",
    "\n",
    "In this section, we'll load the configuration from `config.yaml` and fetch API keys. The API keys are loaded from environment variables, or alternatively from Google Colab's userdata if the notebook is running in Google Colab."
   ]
  },
  {
   "cell_type": "code",
   "execution_count": 9,
   "id": "c4049aab-502c-4cdd-a182-6bbad70b9f5b",
   "metadata": {
    "ExecuteTime": {
     "end_time": "2025-01-14T07:22:34.823232Z",
     "start_time": "2025-01-14T07:22:34.810016Z"
    }
   },
   "outputs": [
    {
     "name": "stderr",
     "output_type": "stream",
     "text": [
      "2025-01-14 15:25:50,178 - WARNING - google.colab module not found. Using environment variables for API keys.\n"
     ]
    }
   ],
   "source": [
    "# Load configuration from YAML file\n",
    "try:\n",
    "    with open(\"config.yaml\", \"r\") as f:\n",
    "        config = yaml.safe_load(f)\n",
    "except FileNotFoundError:\n",
    "    logging.error(\"Error: config.yaml not found. Please create a config.yaml file.\")\n",
    "    exit(1)\n",
    "except yaml.YAMLError as e:\n",
    "    logging.error(f\"Error parsing config.yaml: {e}\")\n",
    "    exit(1)\n",
    "\n",
    "# API Keys - Load from environment variables or Google Colab userdata\n",
    "OPENAI_API_KEY = os.environ.get(\"OPENAI_API_KEY\")\n",
    "ANTHROPIC_API_KEY = os.environ.get(\"ANTHROPIC_API_KEY\")\n",
    "XAI_API_KEY = os.environ.get(\"XAI_API_KEY\")\n",
    "GOOGLE_API_KEY = os.environ.get(\"GOOGLE_API_KEY\")\n",
    "\n",
    "try:\n",
    "    from google.colab import userdata\n",
    "    if not OPENAI_API_KEY:\n",
    "        OPENAI_API_KEY = userdata.get(\"OPENAI_API_KEY\")\n",
    "    if not ANTHROPIC_API_KEY:\n",
    "        ANTHROPIC_API_KEY = userdata.get(\"ANTHROPIC_API_KEY\")\n",
    "    if not XAI_API_KEY:\n",
    "        XAI_API_KEY = userdata.get(\"XAI_API_KEY\")\n",
    "    if not GOOGLE_API_KEY:\n",
    "        GOOGLE_API_KEY = userdata.get(\"GOOGLE_API_KEY\")\n",
    "except ImportError:\n",
    "    logging.warning(\"google.colab module not found. Using environment variables for API keys.\")\n",
    "\n",
    "# Data class to hold the results\n",
    "@dataclass\n",
    "class WorkflowResults:\n",
    "    \"\"\"Data class to hold the results of the workflow.\"\"\"\n",
    "    OpenAI: str = \"\"\n",
    "    Anthropic: str = \"\"\n",
    "    xAI: str = \"\"\n",
    "    Consensus_Analysis: str = \"\"\n",
    "    Charts_Mindmaps: str = \"\"\n",
    "    Analysis_Tools: str = \"\"\n",
    "    Related_Questions: str = \"\"\n",
    "    Meta_Analysis: str = \"\"\n",
    "\n",
    "# Define expert styles from config\n",
    "expert_styles = config.get(\"expert_styles\", {})"
   ]
  },
  {
   "cell_type": "markdown",
   "id": "56f0f59e-c04f-401d-95dd-91a971854607",
   "metadata": {},
   "source": [
    "## LLM Model and Expert Creation\n",
    "\n",
    "Here, we define functions to create LLM model instances and expert agents. The `create_llm_model` function creates an LLM model based on the model name and configuration. The `create_expert` function wraps the LLM model into an expert agent with a specific style using a system prompt. These experts will provide insights in different styles."
   ]
  },
  {
   "cell_type": "code",
   "execution_count": 10,
   "id": "a8ed58a6cb62b9fa",
   "metadata": {
    "ExecuteTime": {
     "end_time": "2025-01-14T07:22:37.213596Z",
     "start_time": "2025-01-14T07:22:37.207664Z"
    }
   },
   "outputs": [],
   "source": [
    "def create_llm_model(model_name: str, model_config: Dict) -> Any:\n",
    "    \"\"\"\n",
    "    Creates an LLM model instance based on the provided model name and configuration.\n",
    "\n",
    "    Args:\n",
    "        model_name (str): The name of the LLM model to use (e.g., \"openai\", \"anthropic\", \"xai\", \"google\").\n",
    "        model_config (Dict): A dictionary containing the configuration for the LLM model.\n",
    "\n",
    "    Returns:\n",
    "        Any: An instance of the LLM model.\n",
    "    \"\"\"\n",
    "    try:\n",
    "        if model_name == \"openai\":\n",
    "            return ChatOpenAI(model=model_config.get(\"model\", config[\"openai_model\"]),\n",
    "                             temperature=model_config.get(\"temperature\", 0),\n",
    "                             max_tokens=model_config.get(\"max_tokens\", 512),\n",
    "                             api_key=OPENAI_API_KEY)\n",
    "        elif model_name == \"anthropic\":\n",
    "            return ChatAnthropic(model=model_config.get(\"model\", config[\"anthropic_model\"]),\n",
    "                                temperature=model_config.get(\"temperature\", 0),\n",
    "                                max_tokens=model_config.get(\"max_tokens\", 512),\n",
    "                                api_key=ANTHROPIC_API_KEY)\n",
    "        elif model_name == \"xai\":\n",
    "            return ChatXAI(model=model_config.get(\"model\", config[\"xai_model\"]),\n",
    "                          temperature=model_config.get(\"temperature\", 0),\n",
    "                          max_tokens=model_config.get(\"max_tokens\", 512),\n",
    "                          api_key=XAI_API_KEY)\n",
    "        elif model_name == \"google\":\n",
    "            return ChatGoogleGenerativeAI(model=model_config.get(\"model\", config[\"supervisor_model\"]),\n",
    "                                         temperature=model_config.get(\"temperature\", 0),\n",
    "                                         max_tokens=model_config.get(\"max_tokens\", 1024),\n",
    "                                         api_key=GOOGLE_API_KEY)\n",
    "        else:\n",
    "            raise ValueError(f\"Invalid model name: {model_name}\")\n",
    "    except Exception as e:\n",
    "        logging.error(f\"Error creating LLM model {model_name}: {e}\")\n",
    "        return None"
   ]
  },
  {
   "cell_type": "code",
   "execution_count": 11,
   "id": "f1a342c683d1a153",
   "metadata": {
    "ExecuteTime": {
     "end_time": "2025-01-14T07:22:40.044087Z",
     "start_time": "2025-01-14T07:22:40.038666Z"
    }
   },
   "outputs": [],
   "source": [
    "\n",
    "def create_expert(model_name: str, style: str, model_config: Dict) -> Callable[[str], str]:\n",
    "    \"\"\"\n",
    "    Creates an expert LLM with a specific style.\n",
    "\n",
    "    Args:\n",
    "        model_name (str): The name of the LLM model to use (e.g., \"openai\", \"anthropic\", \"xai\").\n",
    "        style (str): The style of the expert (e.g., \"technical\", \"creative\", \"business\").\n",
    "        model_config (Dict): A dictionary containing the configuration for the LLM model.\n",
    "\n",
    "    Returns:\n",
    "        Callable[[str], str]: A function that takes a query and returns the LLM's response.\n",
    "    \"\"\"\n",
    "    style_prompt = f\"You are an expert with style: {style}.\"\n",
    "    model = create_llm_model(model_name, model_config)\n",
    "    if not model:\n",
    "        return lambda query: f\"Error: Could not create expert {model_name}\"\n",
    "\n",
    "    async def invoke_expert(query: str) -> str:\n",
    "        \"\"\"Invokes the expert LLM with a given query.\"\"\"\n",
    "        try:\n",
    "            response = await model.ainvoke([(\"system\", style_prompt), (\"user\", query)])\n",
    "            return response.content\n",
    "        except Exception as e:\n",
    "            logging.error(f\"Error invoking expert {model_name}: {e}\")\n",
    "            return f\"Error: Could not invoke expert {model_name}\"\n",
    "    return invoke_expert"
   ]
  },
  {
   "cell_type": "code",
   "execution_count": 12,
   "id": "5a48f70d-a3ec-4d73-9160-2416947a99a4",
   "metadata": {
    "ExecuteTime": {
     "end_time": "2025-01-14T07:22:40.524784Z",
     "start_time": "2025-01-14T07:22:40.466144Z"
    }
   },
   "outputs": [],
   "source": [
    "\n",
    "# Create experts with different styles\n",
    "openai_expert = create_expert(\"openai\", \"technical\", config.get(\"openai_config\", {}))\n",
    "anthropic_expert = create_expert(\"anthropic\", \"creative\", config.get(\"anthropic_config\", {}))\n",
    "xai_expert = create_expert(\"xai\", \"business\", config.get(\"xai_config\", {}))\n",
    "\n",
    "# Initialize supervisor model\n",
    "supervisor_model = create_llm_model(\"google\", config.get(\"supervisor_config\", {}))"
   ]
  },
  {
   "cell_type": "markdown",
   "id": "3e6cc951-3fe9-4768-b5ce-7d3bde72a1e5",
   "metadata": {},
   "source": [
    "## LLM Invocation and Expert Responses\n",
    "\n",
    "Here, we define a helper function `invoke_llm` to interact with LLMs using a system prompt. We also implement a function `get_expert_responses` to gather responses from each expert asynchronously. This ensures we get responses from all the experts before proceeding."
   ]
  },
  {
   "cell_type": "code",
   "execution_count": 13,
   "id": "199fe721-2534-434c-b621-52532ff36048",
   "metadata": {
    "ExecuteTime": {
     "end_time": "2025-01-14T07:22:41.646133Z",
     "start_time": "2025-01-14T07:22:41.640044Z"
    }
   },
   "outputs": [],
   "source": [
    "async def invoke_llm(model: Any, role: str, content: str, task: str) -> str:\n",
    "    \"\"\"\n",
    "    Invokes an LLM with a system prompt.\n",
    "\n",
    "    Args:\n",
    "        model (Any): The LLM model to use.\n",
    "        role (str): The role of the LLM (e.g., \"analyzing responses\", \"generating charts\").\n",
    "        content (str): The content to provide to the LLM.\n",
    "        task (str): The task to instruct the LLM to perform.\n",
    "\n",
    "    Returns:\n",
    "        str: The response from the LLM.\n",
    "    \"\"\"\n",
    "    logging.info(f\"🚀 Invoking LLM as {role} to {task}\")\n",
    "    prompt = [\n",
    "        (\"system\", config[\"prompts\"].get(f\"{role}_system\", f\"You are a supervisor {role}. {task}\")),\n",
    "        (\"user\", content)\n",
    "    ]\n",
    "    try:\n",
    "        response = await model.ainvoke(prompt)\n",
    "        return response.content\n",
    "    except Exception as e:\n",
    "        logging.error(f\"❌ Error invoking LLM: {e}\")\n",
    "        return f\"Error: Could not invoke LLM for {task}\"\n",
    "\n",
    "async def get_expert_responses(query: str) -> Dict[str, str]:\n",
    "    \"\"\"\n",
    "    Gathers responses from different expert LLMs asynchronously.\n",
    "\n",
    "    Args:\n",
    "        query (str): The query to send to the expert LLMs.\n",
    "\n",
    "    Returns:\n",
    "        Dict[str, str]: A dictionary containing the responses from each expert.\n",
    "    \"\"\"\n",
    "    logging.info(\"🤖 Gathering insights from our AI experts...\")\n",
    "    tasks = [\n",
    "        openai_expert(query),\n",
    "        anthropic_expert(query),\n",
    "        xai_expert(query)\n",
    "    ]\n",
    "    responses = await asyncio.gather(*tasks)\n",
    "    return {\n",
    "        \"OpenAI\": responses[0],\n",
    "        \"Anthropic\": responses[1],\n",
    "        \"xAI\": responses[2]\n",
    "    }"
   ]
  },
  {
   "cell_type": "markdown",
   "id": "b1a2b40a-4a50-4191-9b0f-bc06968fd3ff",
   "metadata": {},
   "source": [
    "## Response Analysis\n",
    "\n",
    "This part focuses on analyzing the responses from the experts. The `analyze_responses` function takes the expert responses and a specific analysis type (e.g., consensus, charts, tools, questions, meta) and uses the supervisor model to perform the analysis. We use different prompts defined in `config.yaml` to guide the analysis process."
   ]
  },
  {
   "cell_type": "code",
   "execution_count": 14,
   "id": "9fa69b7e-0cfb-40c2-b7a4-4cfcece46f55",
   "metadata": {
    "ExecuteTime": {
     "end_time": "2025-01-14T07:22:42.747496Z",
     "start_time": "2025-01-14T07:22:42.742681Z"
    }
   },
   "outputs": [],
   "source": [
    "async def analyze_responses(responses: Dict[str, str], analysis_type: str) -> str:\n",
    "    \"\"\"\n",
    "    Analyzes the responses using a specific analysis type asynchronously.\n",
    "\n",
    "    Args:\n",
    "        responses (Dict[str, str]): A dictionary containing the responses from each expert.\n",
    "        analysis_type (str): The type of analysis to perform (e.g., \"consensus\", \"charts\", \"tools\", \"questions\", \"meta\").\n",
    "\n",
    "    Returns:\n",
    "        str: The analysis result from the supervisor LLM.\n",
    "    \"\"\"\n",
    "    logging.info(f\"🕵️‍♂️ Performing {analysis_type} analysis...\")\n",
    "    task = config[\"prompts\"].get(f\"{analysis_type}_task\", f\"✨ Perform {analysis_type} analysis.\")\n",
    "    content = \"\\n\".join([f\"💡 {name}: {resp}\" for name, resp in responses.items()]) if analysis_type == \"consensus\" else f\"📝 Content:\\n\\n{responses}\"\n",
    "    role = f\"🔍 analyzing {analysis_type}\"\n",
    "    return await invoke_llm(supervisor_model, role, content, task)"
   ]
  },
  {
   "cell_type": "markdown",
   "id": "d62d71c4-c3f3-4b54-bfb1-3ddd783906e7",
   "metadata": {},
   "source": [
    "## Full Workflow Orchestration\n",
    "\n",
    "The `run_full_workflow` function orchestrates the entire workflow, gathering expert responses, analyzing them in various ways, and returning a `WorkflowResults` object containing all the outputs. It includes consensus analysis, charts/mindmaps generation, analysis tool output, related questions, and meta analysis."
   ]
  },
  {
   "cell_type": "code",
   "execution_count": 15,
   "id": "2008ff03-3e9d-4359-a984-ec36af803961",
   "metadata": {
    "ExecuteTime": {
     "end_time": "2025-01-14T07:22:44.030327Z",
     "start_time": "2025-01-14T07:22:44.025273Z"
    }
   },
   "outputs": [],
   "source": [
    "async def run_full_workflow(query: str) -> WorkflowResults:\n",
    "    \"\"\"\n",
    "    Runs the full analysis workflow asynchronously.\n",
    "\n",
    "    Args:\n",
    "        query (str): The query to analyze.\n",
    "\n",
    "    Returns:\n",
    "        WorkflowResults: A dataclass containing the results of the workflow.\n",
    "    \"\"\"\n",
    "    logging.info(\"🚀 Initiating the full analysis workflow...\")\n",
    "    responses = await get_expert_responses(query)\n",
    "    combined_responses = \"\\n\".join([f\"{name}:\\n{resp}\" for name, resp in responses.items()])\n",
    "\n",
    "    results = WorkflowResults(\n",
    "        OpenAI=responses.get(\"OpenAI\", \"\"),\n",
    "        Anthropic=responses.get(\"Anthropic\", \"\"),\n",
    "        xAI=responses.get(\"xAI\", \"\"),\n",
    "        Consensus_Analysis=await analyze_responses(responses, \"consensus\"),\n",
    "        Charts_Mindmaps=await analyze_responses(combined_responses, \"charts\"),\n",
    "        Analysis_Tools=await analyze_responses(combined_responses, \"tools\"),\n",
    "        Related_Questions=await analyze_responses(combined_responses, \"questions\"),\n",
    "        Meta_Analysis=await analyze_responses(combined_responses, \"meta\")\n",
    "    )\n",
    "    return results"
   ]
  },
  {
   "cell_type": "markdown",
   "id": "1c327949-66b5-4edb-b58b-e5790ce48711",
   "metadata": {},
   "source": [
    "## Results Display\n",
    "\n",
    "This section focuses on presenting the output using the rich library and making it readable and clear. The `display_results` function takes the `WorkflowResults` object and formats the output for display, including expert responses, consensus analysis, charts, analysis tools output, related questions, and meta-analysis."
   ]
  },
  {
   "cell_type": "code",
   "execution_count": 16,
   "id": "8da56190-bec5-42ec-a77f-7518c30ce7e3",
   "metadata": {
    "ExecuteTime": {
     "end_time": "2025-01-14T07:22:45.400261Z",
     "start_time": "2025-01-14T07:22:45.393978Z"
    }
   },
   "outputs": [],
   "source": [
    "def display_results(results: WorkflowResults, query_example: str) -> None:\n",
    "    \"\"\"\n",
    "    Displays the results using the rich library and improved formatting.\n",
    "\n",
    "    Args:\n",
    "        results (WorkflowResults): The results of the workflow.\n",
    "        query_example (str): The original query.\n",
    "    \"\"\"\n",
    "    # Display the main header\n",
    "    console.print(Panel(Text(\"🚀 === Workflow Results === 🚀\", style=\"bold blue\"), expand=False))\n",
    "    console.print(f\"[italic]🔍 Query:[/italic] {query_example}\\n\")\n",
    "\n",
    "    # Display expert responses\n",
    "    console.print(Panel(Text(\"🤖 === Expert Responses === 🤖\", style=\"bold green\"), expand=False))\n",
    "    console.print(Panel(Text(f\"🟢 OpenAI:\\n{results.OpenAI}\", style=\"green\"), title=\"[bold]🤖 OpenAI[/bold]\", expand=False))\n",
    "    console.print(Panel(Text(f\"🌀 Anthropic:\\n{results.Anthropic}\", style=\"cyan\"), title=\"[bold]✨ Anthropic[/bold]\", expand=False))\n",
    "    console.print(Panel(Text(f\"🟣 xAI:\\n{results.xAI}\", style=\"magenta\"), title=\"[bold]🔮 xAI[/bold]\", expand=False))\n",
    "\n",
    "    # Display Consensus Analysis if available\n",
    "    if results.Consensus_Analysis:\n",
    "        console.print(Panel(Text(\"📊 === Consensus Analysis === 📊\", style=\"bold magenta\"), expand=False))\n",
    "        display(ipyMarkdown(results.Consensus_Analysis))  # Markdown rendered in Jupyter Notebook\n",
    "        print(\"\\n\")\n",
    "\n",
    "    # General sections and content\n",
    "    sections = {\n",
    "        \"Charts_Mindmaps\": \"🗺️ Charts and Mindmaps\",\n",
    "        \"Analysis_Tools\": \"🔧 Analysis Tools\",\n",
    "        \"Related_Questions\": \"❓ Related Questions\",\n",
    "        \"Meta_Analysis\": \"🧠 Meta Analysis\"\n",
    "    }\n",
    "\n",
    "    for key, title in sections.items():\n",
    "        content = getattr(results, key, None)\n",
    "        if content:\n",
    "            console.print(Panel(Text(f\"=== {title} ===\", style=\"bold yellow\"), expand=False))\n",
    "            display(ipyMarkdown(content))  # Markdown rendered in Jupyter Notebook\n",
    "            print(\"\\n\")"
   ]
  },
  {
   "cell_type": "markdown",
   "id": "3a0bc7b9-ae8d-441d-971b-66333f7b6e0d",
   "metadata": {},
   "source": [
    "## Main Execution\n",
    "\n",
    "Finally, the `main` function defines the query example, runs the full workflow, and displays the results.\n",
    "This demonstrates the entire process from start to finish."
   ]
  },
  {
   "cell_type": "code",
   "execution_count": 17,
   "id": "f151ab9f-c50b-48c8-a1e2-defcf8b1fff6",
   "metadata": {
    "ExecuteTime": {
     "end_time": "2025-01-14T07:23:39.052238Z",
     "start_time": "2025-01-14T07:22:46.798028Z"
    }
   },
   "outputs": [
    {
     "name": "stderr",
     "output_type": "stream",
     "text": [
      "2025-01-14 15:25:57,462 - INFO - 🚀 Initiating the full analysis workflow...\n",
      "2025-01-14 15:25:57,464 - INFO - 🤖 Gathering insights from our AI experts...\n",
      "2025-01-14 15:26:05,274 - INFO - HTTP Request: POST https://api.anthropic.com/v1/messages \"HTTP/1.1 200 OK\"\n",
      "2025-01-14 15:26:06,850 - INFO - HTTP Request: POST https://api.openai.com/v1/chat/completions \"HTTP/1.1 200 OK\"\n",
      "2025-01-14 15:26:06,895 - INFO - HTTP Request: POST https://api.x.ai/v1/chat/completions \"HTTP/1.1 200 OK\"\n",
      "2025-01-14 15:26:06,899 - INFO - 🕵️‍♂️ Performing consensus analysis...\n",
      "2025-01-14 15:26:06,900 - INFO - 🚀 Invoking LLM as 🔍 analyzing consensus to Analyze the following experts' responses. Provide a consensus analysis and highlight disagreements.\n",
      "2025-01-14 15:26:15,469 - INFO - 🕵️‍♂️ Performing charts analysis...\n",
      "2025-01-14 15:26:15,469 - INFO - 🚀 Invoking LLM as 🔍 analyzing charts to Generate useful charts or mindmap descriptions in concise text.\n",
      "2025-01-14 15:26:22,994 - INFO - 🕵️‍♂️ Performing tools analysis...\n",
      "2025-01-14 15:26:22,996 - INFO - 🚀 Invoking LLM as 🔍 analyzing tools to Perform sentiment analysis, bias detection, uncertainty highlighting, and jargon explanation. Separate each analysis by sections.\n",
      "2025-01-14 15:26:31,028 - INFO - 🕵️‍♂️ Performing questions analysis...\n",
      "2025-01-14 15:26:31,031 - INFO - 🚀 Invoking LLM as 🔍 analyzing questions to Provide related questions for deeper learning.\n",
      "2025-01-14 15:26:38,176 - INFO - 🕵️‍♂️ Performing meta analysis...\n",
      "2025-01-14 15:26:38,177 - INFO - 🚀 Invoking LLM as 🔍 analyzing meta to Evaluate quality metrics and perform pattern recognition.\n"
     ]
    },
    {
     "data": {
      "text/html": [
       "<pre style=\"white-space:pre;overflow-x:auto;line-height:normal;font-family:Menlo,'DejaVu Sans Mono',consolas,'Courier New',monospace\">╭────────────────────────────────╮\n",
       "│ <span style=\"color: #000080; text-decoration-color: #000080; font-weight: bold\">🚀 === Workflow Results === 🚀</span> │\n",
       "╰────────────────────────────────╯\n",
       "</pre>\n"
      ],
      "text/plain": [
       "╭────────────────────────────────╮\n",
       "│ \u001b[1;34m🚀 === Workflow Results === 🚀\u001b[0m │\n",
       "╰────────────────────────────────╯\n"
      ]
     },
     "metadata": {},
     "output_type": "display_data"
    },
    {
     "data": {
      "text/html": [
       "<pre style=\"white-space:pre;overflow-x:auto;line-height:normal;font-family:Menlo,'DejaVu Sans Mono',consolas,'Courier New',monospace\"><span style=\"font-style: italic\">🔍 Query:</span> Explain how Data analysis and data science are different\n",
       "\n",
       "</pre>\n"
      ],
      "text/plain": [
       "\u001b[3m🔍 Query:\u001b[0m Explain how Data analysis and data science are different\n",
       "\n"
      ]
     },
     "metadata": {},
     "output_type": "display_data"
    },
    {
     "data": {
      "text/html": [
       "<pre style=\"white-space:pre;overflow-x:auto;line-height:normal;font-family:Menlo,'DejaVu Sans Mono',consolas,'Courier New',monospace\">╭────────────────────────────────╮\n",
       "│ <span style=\"color: #008000; text-decoration-color: #008000; font-weight: bold\">🤖 === Expert Responses === 🤖</span> │\n",
       "╰────────────────────────────────╯\n",
       "</pre>\n"
      ],
      "text/plain": [
       "╭────────────────────────────────╮\n",
       "│ \u001b[1;32m🤖 === Expert Responses === 🤖\u001b[0m │\n",
       "╰────────────────────────────────╯\n"
      ]
     },
     "metadata": {},
     "output_type": "display_data"
    },
    {
     "data": {
      "text/html": [
       "<pre style=\"white-space:pre;overflow-x:auto;line-height:normal;font-family:Menlo,'DejaVu Sans Mono',consolas,'Courier New',monospace\">╭─────────────────────────────────────────────────── <span style=\"font-weight: bold\">🤖 OpenAI</span> ───────────────────────────────────────────────────╮\n",
       "│ <span style=\"color: #008000; text-decoration-color: #008000\">🟢 OpenAI:</span>                                                                                                      │\n",
       "│ <span style=\"color: #008000; text-decoration-color: #008000\">Data analysis and data science are related fields, but they have distinct focuses, methodologies, and </span>          │\n",
       "│ <span style=\"color: #008000; text-decoration-color: #008000\">objectives. Here's a breakdown of their differences:</span>                                                            │\n",
       "│                                                                                                                 │\n",
       "│ <span style=\"color: #008000; text-decoration-color: #008000\">### Data Analysis</span>                                                                                               │\n",
       "│                                                                                                                 │\n",
       "│ <span style=\"color: #008000; text-decoration-color: #008000\">1. **Objective**: </span>                                                                                              │\n",
       "│ <span style=\"color: #008000; text-decoration-color: #008000\">   - The primary goal of data analysis is to extract meaningful insights from data to support decision-making. </span> │\n",
       "│ <span style=\"color: #008000; text-decoration-color: #008000\">It often involves summarizing historical data to understand what happened and why.</span>                              │\n",
       "│                                                                                                                 │\n",
       "│ <span style=\"color: #008000; text-decoration-color: #008000\">2. **Scope**:</span>                                                                                                   │\n",
       "│ <span style=\"color: #008000; text-decoration-color: #008000\">   - Data analysis is generally more focused and specific. It deals with analyzing existing datasets to answer </span> │\n",
       "│ <span style=\"color: #008000; text-decoration-color: #008000\">specific questions or test hypotheses.</span>                                                                          │\n",
       "│                                                                                                                 │\n",
       "│ <span style=\"color: #008000; text-decoration-color: #008000\">3. **Techniques**:</span>                                                                                              │\n",
       "│ <span style=\"color: #008000; text-decoration-color: #008000\">   - Common techniques include descriptive statistics, data visualization, and exploratory data analysis (EDA).</span> │\n",
       "│ <span style=\"color: #008000; text-decoration-color: #008000\">Tools like Excel, SQL, and BI software (e.g., Tableau, Power BI) are frequently used.</span>                           │\n",
       "│                                                                                                                 │\n",
       "│ <span style=\"color: #008000; text-decoration-color: #008000\">4. **Outcome**:</span>                                                                                                 │\n",
       "│ <span style=\"color: #008000; text-decoration-color: #008000\">   - The outcome is typically a report or visualization that provides insights into past performance or trends.</span> │\n",
       "│                                                                                                                 │\n",
       "│ <span style=\"color: #008000; text-decoration-color: #008000\">5. **Skill Set**:</span>                                                                                               │\n",
       "│ <span style=\"color: #008000; text-decoration-color: #008000\">   - Skills required include statistical analysis, data cleaning, data visualization, and domain knowledge.</span>     │\n",
       "│                                                                                                                 │\n",
       "│ <span style=\"color: #008000; text-decoration-color: #008000\">6. **Approach**:</span>                                                                                                │\n",
       "│ <span style=\"color: #008000; text-decoration-color: #008000\">   - Data analysis is often more reactive, focusing on analyzing data after it has been collected.</span>              │\n",
       "│                                                                                                                 │\n",
       "│ <span style=\"color: #008000; text-decoration-color: #008000\">### Data Science</span>                                                                                                │\n",
       "│                                                                                                                 │\n",
       "│ <span style=\"color: #008000; text-decoration-color: #008000\">1. **Objective**:</span>                                                                                               │\n",
       "│ <span style=\"color: #008000; text-decoration-color: #008000\">   - Data science aims to create predictive models and algorithms to forecast future trends and behaviors. It </span>  │\n",
       "│ <span style=\"color: #008000; text-decoration-color: #008000\">involves building systems that can learn from data and make decisions.</span>                                          │\n",
       "│                                                                                                                 │\n",
       "│ <span style=\"color: #008000; text-decoration-color: #008000\">2. **Scope**:</span>                                                                                                   │\n",
       "│ <span style=\"color: #008000; text-decoration-color: #008000\">   - Data science is broader and more interdisciplinary. It encompasses data analysis but also includes machine</span> │\n",
       "│ <span style=\"color: #008000; text-decoration-color: #008000\">learning, data engineering, and big data technologies.</span>                                                          │\n",
       "│                                                                                                                 │\n",
       "│ <span style=\"color: #008000; text-decoration-color: #008000\">3. **Techniques**:</span>                                                                                              │\n",
       "│ <span style=\"color: #008000; text-decoration-color: #008000\">   - Techniques include machine learning, predictive modeling, natural language processing, and deep learning. </span> │\n",
       "│ <span style=\"color: #008000; text-decoration-color: #008000\">Programming languages like Python and R, along with libraries such as TensorFlow and PyTorch, are commonly </span>     │\n",
       "│ <span style=\"color: #008000; text-decoration-color: #008000\">used.</span>                                                                                                           │\n",
       "│                                                                                                                 │\n",
       "│ <span style=\"color: #008000; text-decoration-color: #008000\">4. **Outcome**:</span>                                                                                                 │\n",
       "│ <span style=\"color: #008000; text-decoration-color: #008000\">   - The outcome is often a model or algorithm that can be deployed in production environments to automate </span>     │\n",
       "│ <span style=\"color: #008000; text-decoration-color: #008000\">decision-making processes.</span>                                                                                      │\n",
       "│                                                                                                                 │\n",
       "│ <span style=\"color: #008000; text-decoration-color: #008000\">5. **Skill Set**:</span>                                                                                               │\n",
       "│ <span style=\"color: #008000; text-decoration-color: #008000\">   - Skills required include programming, machine learning, statistical modeling, data engineering, and a </span>      │\n",
       "│ <span style=\"color: #008000; text-decoration-color: #008000\">strong understanding of algorithms.</span>                                                                             │\n",
       "│                                                                                                                 │\n",
       "│ <span style=\"color: #008000; text-decoration-color: #008000\">6. **Approach**:</span>                                                                                                │\n",
       "│ <span style=\"color: #008000; text-decoration-color: #008000\">   - Data science is more proactive and forward-looking, focusing on building models that can predict future </span>   │\n",
       "│ <span style=\"color: #008000; text-decoration-color: #008000\">outcomes or automate processes.</span>                                                                                 │\n",
       "│                                                                                                                 │\n",
       "│ <span style=\"color: #008000; text-decoration-color: #008000\">### Summary</span>                                                                                                     │\n",
       "│                                                                                                                 │\n",
       "│ <span style=\"color: #008000; text-decoration-color: #008000\">While data analysis is a component of data science, data science encompasses a wider range of activities and </span>   │\n",
       "│ <span style=\"color: #008000; text-decoration-color: #008000\">skills, including the development of predictive models and the use of advanced algorithms. Data analysis is </span>    │\n",
       "│ <span style=\"color: #008000; text-decoration-color: #008000\">more about interpreting existing data to provide insights, whereas data science is about creating systems that </span> │\n",
       "│ <span style=\"color: #008000; text-decoration-color: #008000\">can learn from and make predictions based on data.</span>                                                              │\n",
       "╰─────────────────────────────────────────────────────────────────────────────────────────────────────────────────╯\n",
       "</pre>\n"
      ],
      "text/plain": [
       "╭─────────────────────────────────────────────────── \u001b[1m🤖 OpenAI\u001b[0m ───────────────────────────────────────────────────╮\n",
       "│ \u001b[32m🟢 OpenAI:\u001b[0m                                                                                                      │\n",
       "│ \u001b[32mData analysis and data science are related fields, but they have distinct focuses, methodologies, and \u001b[0m          │\n",
       "│ \u001b[32mobjectives. Here's a breakdown of their differences:\u001b[0m                                                            │\n",
       "│                                                                                                                 │\n",
       "│ \u001b[32m### Data Analysis\u001b[0m                                                                                               │\n",
       "│                                                                                                                 │\n",
       "│ \u001b[32m1. **Objective**: \u001b[0m                                                                                              │\n",
       "│ \u001b[32m   - The primary goal of data analysis is to extract meaningful insights from data to support decision-making. \u001b[0m │\n",
       "│ \u001b[32mIt often involves summarizing historical data to understand what happened and why.\u001b[0m                              │\n",
       "│                                                                                                                 │\n",
       "│ \u001b[32m2. **Scope**:\u001b[0m                                                                                                   │\n",
       "│ \u001b[32m   - Data analysis is generally more focused and specific. It deals with analyzing existing datasets to answer \u001b[0m │\n",
       "│ \u001b[32mspecific questions or test hypotheses.\u001b[0m                                                                          │\n",
       "│                                                                                                                 │\n",
       "│ \u001b[32m3. **Techniques**:\u001b[0m                                                                                              │\n",
       "│ \u001b[32m   - Common techniques include descriptive statistics, data visualization, and exploratory data analysis (EDA).\u001b[0m │\n",
       "│ \u001b[32mTools like Excel, SQL, and BI software (e.g., Tableau, Power BI) are frequently used.\u001b[0m                           │\n",
       "│                                                                                                                 │\n",
       "│ \u001b[32m4. **Outcome**:\u001b[0m                                                                                                 │\n",
       "│ \u001b[32m   - The outcome is typically a report or visualization that provides insights into past performance or trends.\u001b[0m │\n",
       "│                                                                                                                 │\n",
       "│ \u001b[32m5. **Skill Set**:\u001b[0m                                                                                               │\n",
       "│ \u001b[32m   - Skills required include statistical analysis, data cleaning, data visualization, and domain knowledge.\u001b[0m     │\n",
       "│                                                                                                                 │\n",
       "│ \u001b[32m6. **Approach**:\u001b[0m                                                                                                │\n",
       "│ \u001b[32m   - Data analysis is often more reactive, focusing on analyzing data after it has been collected.\u001b[0m              │\n",
       "│                                                                                                                 │\n",
       "│ \u001b[32m### Data Science\u001b[0m                                                                                                │\n",
       "│                                                                                                                 │\n",
       "│ \u001b[32m1. **Objective**:\u001b[0m                                                                                               │\n",
       "│ \u001b[32m   - Data science aims to create predictive models and algorithms to forecast future trends and behaviors. It \u001b[0m  │\n",
       "│ \u001b[32minvolves building systems that can learn from data and make decisions.\u001b[0m                                          │\n",
       "│                                                                                                                 │\n",
       "│ \u001b[32m2. **Scope**:\u001b[0m                                                                                                   │\n",
       "│ \u001b[32m   - Data science is broader and more interdisciplinary. It encompasses data analysis but also includes machine\u001b[0m │\n",
       "│ \u001b[32mlearning, data engineering, and big data technologies.\u001b[0m                                                          │\n",
       "│                                                                                                                 │\n",
       "│ \u001b[32m3. **Techniques**:\u001b[0m                                                                                              │\n",
       "│ \u001b[32m   - Techniques include machine learning, predictive modeling, natural language processing, and deep learning. \u001b[0m │\n",
       "│ \u001b[32mProgramming languages like Python and R, along with libraries such as TensorFlow and PyTorch, are commonly \u001b[0m     │\n",
       "│ \u001b[32mused.\u001b[0m                                                                                                           │\n",
       "│                                                                                                                 │\n",
       "│ \u001b[32m4. **Outcome**:\u001b[0m                                                                                                 │\n",
       "│ \u001b[32m   - The outcome is often a model or algorithm that can be deployed in production environments to automate \u001b[0m     │\n",
       "│ \u001b[32mdecision-making processes.\u001b[0m                                                                                      │\n",
       "│                                                                                                                 │\n",
       "│ \u001b[32m5. **Skill Set**:\u001b[0m                                                                                               │\n",
       "│ \u001b[32m   - Skills required include programming, machine learning, statistical modeling, data engineering, and a \u001b[0m      │\n",
       "│ \u001b[32mstrong understanding of algorithms.\u001b[0m                                                                             │\n",
       "│                                                                                                                 │\n",
       "│ \u001b[32m6. **Approach**:\u001b[0m                                                                                                │\n",
       "│ \u001b[32m   - Data science is more proactive and forward-looking, focusing on building models that can predict future \u001b[0m   │\n",
       "│ \u001b[32moutcomes or automate processes.\u001b[0m                                                                                 │\n",
       "│                                                                                                                 │\n",
       "│ \u001b[32m### Summary\u001b[0m                                                                                                     │\n",
       "│                                                                                                                 │\n",
       "│ \u001b[32mWhile data analysis is a component of data science, data science encompasses a wider range of activities and \u001b[0m   │\n",
       "│ \u001b[32mskills, including the development of predictive models and the use of advanced algorithms. Data analysis is \u001b[0m    │\n",
       "│ \u001b[32mmore about interpreting existing data to provide insights, whereas data science is about creating systems that \u001b[0m │\n",
       "│ \u001b[32mcan learn from and make predictions based on data.\u001b[0m                                                              │\n",
       "╰─────────────────────────────────────────────────────────────────────────────────────────────────────────────────╯\n"
      ]
     },
     "metadata": {},
     "output_type": "display_data"
    },
    {
     "data": {
      "text/html": [
       "<pre style=\"white-space:pre;overflow-x:auto;line-height:normal;font-family:Menlo,'DejaVu Sans Mono',consolas,'Courier New',monospace\">╭──────────────────────────────────────────────── <span style=\"font-weight: bold\">✨ Anthropic</span> ─────────────────────────────────────────────────╮\n",
       "│ <span style=\"color: #008080; text-decoration-color: #008080\">🌀 Anthropic:</span>                                                                                                 │\n",
       "│ <span style=\"color: #008080; text-decoration-color: #008080\">Let me paint a vivid picture of the differences between Data Analysis and Data Science with a creative twist:</span> │\n",
       "│                                                                                                               │\n",
       "│ <span style=\"color: #008080; text-decoration-color: #008080\">🔍 Data Analysis: The Detective</span>                                                                               │\n",
       "│ <span style=\"color: #008080; text-decoration-color: #008080\">• Focuses on solving specific mysteries in data</span>                                                               │\n",
       "│ <span style=\"color: #008080; text-decoration-color: #008080\">• Uses existing tools and established methods</span>                                                                 │\n",
       "│ <span style=\"color: #008080; text-decoration-color: #008080\">• Primarily descriptive and diagnostic</span>                                                                        │\n",
       "│ <span style=\"color: #008080; text-decoration-color: #008080\">• Answers \"What happened?\" and \"Why did it happen?\"</span>                                                           │\n",
       "│ <span style=\"color: #008080; text-decoration-color: #008080\">• Skills: Excel, SQL, basic statistical techniques</span>                                                            │\n",
       "│ <span style=\"color: #008080; text-decoration-color: #008080\">• Typical tools: Spreadsheets, visualization software</span>                                                         │\n",
       "│ <span style=\"color: #008080; text-decoration-color: #008080\">• Goal: Uncover insights and explain past trends</span>                                                              │\n",
       "│ <span style=\"color: #008080; text-decoration-color: #008080\">• Shorter-term, more targeted investigations</span>                                                                  │\n",
       "│ <span style=\"color: #008080; text-decoration-color: #008080\">• Like a skilled detective examining clues</span>                                                                    │\n",
       "│                                                                                                               │\n",
       "│ <span style=\"color: #008080; text-decoration-color: #008080\">🚀 Data Science: The Visionary Inventor</span>                                                                       │\n",
       "│ <span style=\"color: #008080; text-decoration-color: #008080\">• Builds complex predictive models and algorithms</span>                                                             │\n",
       "│ <span style=\"color: #008080; text-decoration-color: #008080\">• Creates innovative techniques and approaches</span>                                                                │\n",
       "│ <span style=\"color: #008080; text-decoration-color: #008080\">• Combines statistics, programming, and domain expertise</span>                                                      │\n",
       "│ <span style=\"color: #008080; text-decoration-color: #008080\">• Answers \"What might happen next?\" and \"How can we optimize?\"</span>                                                │\n",
       "│ <span style=\"color: #008080; text-decoration-color: #008080\">• Skills: Advanced programming, machine learning, deep statistical knowledge</span>                                  │\n",
       "│ <span style=\"color: #008080; text-decoration-color: #008080\">• Typical tools: Python, R, advanced ML frameworks</span>                                                            │\n",
       "│ <span style=\"color: #008080; text-decoration-color: #008080\">• Goal: Predict future scenarios and create intelligent systems</span>                                               │\n",
       "│ <span style=\"color: #008080; text-decoration-color: #008080\">• Long-term, transformative strategic thinking</span>                                                                │\n",
       "│ <span style=\"color: #008080; text-decoration-color: #008080\">• Like a futuristic inventor designing breakthrough technologies</span>                                              │\n",
       "│                                                                                                               │\n",
       "│ <span style=\"color: #008080; text-decoration-color: #008080\">Key Differences:</span>                                                                                              │\n",
       "│ <span style=\"color: #008080; text-decoration-color: #008080\">• Complexity: Analysis (Moderate) vs Science (High)</span>                                                           │\n",
       "│ <span style=\"color: #008080; text-decoration-color: #008080\">• Scope: Narrow vs Broad</span>                                                                                      │\n",
       "│ <span style=\"color: #008080; text-decoration-color: #008080\">• Predictive Power: Limited vs Extensive</span>                                                                      │\n",
       "│ <span style=\"color: #008080; text-decoration-color: #008080\">• Technical Depth: Intermediate vs Advanced</span>                                                                   │\n",
       "│                                                                                                               │\n",
       "│ <span style=\"color: #008080; text-decoration-color: #008080\">Both are crucial data exploration disciplines, just with different superpowers! 🌟📊</span>                          │\n",
       "╰───────────────────────────────────────────────────────────────────────────────────────────────────────────────╯\n",
       "</pre>\n"
      ],
      "text/plain": [
       "╭──────────────────────────────────────────────── \u001b[1m✨ Anthropic\u001b[0m ─────────────────────────────────────────────────╮\n",
       "│ \u001b[36m🌀 Anthropic:\u001b[0m                                                                                                 │\n",
       "│ \u001b[36mLet me paint a vivid picture of the differences between Data Analysis and Data Science with a creative twist:\u001b[0m │\n",
       "│                                                                                                               │\n",
       "│ \u001b[36m🔍 Data Analysis: The Detective\u001b[0m                                                                               │\n",
       "│ \u001b[36m• Focuses on solving specific mysteries in data\u001b[0m                                                               │\n",
       "│ \u001b[36m• Uses existing tools and established methods\u001b[0m                                                                 │\n",
       "│ \u001b[36m• Primarily descriptive and diagnostic\u001b[0m                                                                        │\n",
       "│ \u001b[36m• Answers \"What happened?\" and \"Why did it happen?\"\u001b[0m                                                           │\n",
       "│ \u001b[36m• Skills: Excel, SQL, basic statistical techniques\u001b[0m                                                            │\n",
       "│ \u001b[36m• Typical tools: Spreadsheets, visualization software\u001b[0m                                                         │\n",
       "│ \u001b[36m• Goal: Uncover insights and explain past trends\u001b[0m                                                              │\n",
       "│ \u001b[36m• Shorter-term, more targeted investigations\u001b[0m                                                                  │\n",
       "│ \u001b[36m• Like a skilled detective examining clues\u001b[0m                                                                    │\n",
       "│                                                                                                               │\n",
       "│ \u001b[36m🚀 Data Science: The Visionary Inventor\u001b[0m                                                                       │\n",
       "│ \u001b[36m• Builds complex predictive models and algorithms\u001b[0m                                                             │\n",
       "│ \u001b[36m• Creates innovative techniques and approaches\u001b[0m                                                                │\n",
       "│ \u001b[36m• Combines statistics, programming, and domain expertise\u001b[0m                                                      │\n",
       "│ \u001b[36m• Answers \"What might happen next?\" and \"How can we optimize?\"\u001b[0m                                                │\n",
       "│ \u001b[36m• Skills: Advanced programming, machine learning, deep statistical knowledge\u001b[0m                                  │\n",
       "│ \u001b[36m• Typical tools: Python, R, advanced ML frameworks\u001b[0m                                                            │\n",
       "│ \u001b[36m• Goal: Predict future scenarios and create intelligent systems\u001b[0m                                               │\n",
       "│ \u001b[36m• Long-term, transformative strategic thinking\u001b[0m                                                                │\n",
       "│ \u001b[36m• Like a futuristic inventor designing breakthrough technologies\u001b[0m                                              │\n",
       "│                                                                                                               │\n",
       "│ \u001b[36mKey Differences:\u001b[0m                                                                                              │\n",
       "│ \u001b[36m• Complexity: Analysis (Moderate) vs Science (High)\u001b[0m                                                           │\n",
       "│ \u001b[36m• Scope: Narrow vs Broad\u001b[0m                                                                                      │\n",
       "│ \u001b[36m• Predictive Power: Limited vs Extensive\u001b[0m                                                                      │\n",
       "│ \u001b[36m• Technical Depth: Intermediate vs Advanced\u001b[0m                                                                   │\n",
       "│                                                                                                               │\n",
       "│ \u001b[36mBoth are crucial data exploration disciplines, just with different superpowers! 🌟📊\u001b[0m                          │\n",
       "╰───────────────────────────────────────────────────────────────────────────────────────────────────────────────╯\n"
      ]
     },
     "metadata": {},
     "output_type": "display_data"
    },
    {
     "data": {
      "text/html": [
       "<pre style=\"white-space:pre;overflow-x:auto;line-height:normal;font-family:Menlo,'DejaVu Sans Mono',consolas,'Courier New',monospace\">╭──────────────────────────────────────────────────── <span style=\"font-weight: bold\">🔮 xAI</span> ─────────────────────────────────────────────────────╮\n",
       "│ <span style=\"color: #800080; text-decoration-color: #800080\">🟣 xAI:</span>                                                                                                         │\n",
       "│ <span style=\"color: #800080; text-decoration-color: #800080\">Data analysis and data science, while closely related, serve different purposes within the realm of data </span>       │\n",
       "│ <span style=\"color: #800080; text-decoration-color: #800080\">management and interpretation:</span>                                                                                  │\n",
       "│                                                                                                                 │\n",
       "│ <span style=\"color: #800080; text-decoration-color: #800080\">### **Data Analysis:**</span>                                                                                          │\n",
       "│                                                                                                                 │\n",
       "│ <span style=\"color: #800080; text-decoration-color: #800080\">1. **Scope**: Data analysis focuses on examining, cleaning, transforming, and modeling data to discover useful </span> │\n",
       "│ <span style=\"color: #800080; text-decoration-color: #800080\">information, draw conclusions, and support decision-making. It's often more about understanding what has </span>       │\n",
       "│ <span style=\"color: #800080; text-decoration-color: #800080\">happened.</span>                                                                                                       │\n",
       "│                                                                                                                 │\n",
       "│ <span style=\"color: #800080; text-decoration-color: #800080\">2. **Techniques**: It involves statistical methods, data visualization, and basic machine learning techniques </span>  │\n",
       "│ <span style=\"color: #800080; text-decoration-color: #800080\">to summarize data sets. Tools like Excel, SQL, and basic Python or R scripts are commonly used.</span>                 │\n",
       "│                                                                                                                 │\n",
       "│ <span style=\"color: #800080; text-decoration-color: #800080\">3. **Objective**: The primary goal is to answer specific questions or solve particular problems with data. This</span> │\n",
       "│ <span style=\"color: #800080; text-decoration-color: #800080\">could involve:</span>                                                                                                  │\n",
       "│ <span style=\"color: #800080; text-decoration-color: #800080\">   - Descriptive Analysis: Summarizing the main characteristics of a data set.</span>                                  │\n",
       "│ <span style=\"color: #800080; text-decoration-color: #800080\">   - Diagnostic Analysis: Understanding why something happened by looking at patterns and relationships.</span>        │\n",
       "│                                                                                                                 │\n",
       "│ <span style=\"color: #800080; text-decoration-color: #800080\">4. **Skill Set**: Analysts need to be proficient in statistics, data manipulation, and visualization. They </span>     │\n",
       "│ <span style=\"color: #800080; text-decoration-color: #800080\">often work with structured data.</span>                                                                                │\n",
       "│                                                                                                                 │\n",
       "│ <span style=\"color: #800080; text-decoration-color: #800080\">5. **Outcome**: The results are usually reports, dashboards, or presentations that provide insights into past </span>  │\n",
       "│ <span style=\"color: #800080; text-decoration-color: #800080\">or current trends, behaviors, or outcomes.</span>                                                                      │\n",
       "│                                                                                                                 │\n",
       "│ <span style=\"color: #800080; text-decoration-color: #800080\">### **Data Science:**</span>                                                                                           │\n",
       "│                                                                                                                 │\n",
       "│ <span style=\"color: #800080; text-decoration-color: #800080\">1. **Scope**: Data science encompasses a broader range of activities, including data analysis but extending </span>    │\n",
       "│ <span style=\"color: #800080; text-decoration-color: #800080\">into predictive modeling, machine learning, and artificial intelligence. It's about predicting what will happen</span> │\n",
       "│ <span style=\"color: #800080; text-decoration-color: #800080\">or what could happen.</span>                                                                                           │\n",
       "│                                                                                                                 │\n",
       "│ <span style=\"color: #800080; text-decoration-color: #800080\">2. **Techniques**: Data scientists use advanced machine learning algorithms, deep learning, natural language </span>   │\n",
       "│ <span style=\"color: #800080; text-decoration-color: #800080\">processing, and big data technologies. They often deal with both structured and unstructured data.</span>              │\n",
       "│                                                                                                                 │\n",
       "│ <span style=\"color: #800080; text-decoration-color: #800080\">3. **Objective**: </span>                                                                                              │\n",
       "│ <span style=\"color: #800080; text-decoration-color: #800080\">   - Predictive Analysis: Forecasting future trends or behaviors.</span>                                               │\n",
       "│ <span style=\"color: #800080; text-decoration-color: #800080\">   - Prescriptive Analysis: Suggesting actions based on predictive models.</span>                                      │\n",
       "│ <span style=\"color: #800080; text-decoration-color: #800080\">   - Experimentation: Testing hypotheses through controlled experiments or A/B testing.</span>                         │\n",
       "│                                                                                                                 │\n",
       "│ <span style=\"color: #800080; text-decoration-color: #800080\">4. **Skill Set**: Requires a deep understanding of statistics, programming (Python, R, Scala), machine </span>         │\n",
       "│ <span style=\"color: #800080; text-decoration-color: #800080\">learning, data engineering, and domain knowledge. Data scientists often need to handle large datasets and </span>      │\n",
       "│ <span style=\"color: #800080; text-decoration-color: #800080\">complex data pipelines.</span>                                                                                         │\n",
       "│                                                                                                                 │\n",
       "│ <span style=\"color: #800080; text-decoration-color: #800080\">5. **Outcome**: The outputs can be predictive models, algorithms, or systems that can automate decision-making </span> │\n",
       "│ <span style=\"color: #800080; text-decoration-color: #800080\">processes, optimize operations, or create new products/services. </span>                                               │\n",
       "│                                                                                                                 │\n",
       "│ <span style=\"color: #800080; text-decoration-color: #800080\">### **Key Differences:**</span>                                                                                        │\n",
       "│                                                                                                                 │\n",
       "│ <span style=\"color: #800080; text-decoration-color: #800080\">- **Depth vs. Breadth**: Data analysis might be seen as a subset of data science. Data science includes data </span>   │\n",
       "│ <span style=\"color: #800080; text-decoration-color: #800080\">analysis but goes beyond to include predictive modeling and advanced analytics.</span>                                 │\n",
       "│                                                                                                                 │\n",
       "│ <span style=\"color: #800080; text-decoration-color: #800080\">- **Focus**: Data analysis often focuses on historical data to understand what has happened, whereas data </span>      │\n",
       "│ <span style=\"color: #800080; text-decoration-color: #800080\">science aims at using data to predict or influence future outcomes.</span>                                             │\n",
       "│                                                                                                                 │\n",
       "│ <span style=\"color: #800080; text-decoration-color: #800080\">- **Complexity**: Data science typically involves more complex algorithms</span>                                       │\n",
       "╰─────────────────────────────────────────────────────────────────────────────────────────────────────────────────╯\n",
       "</pre>\n"
      ],
      "text/plain": [
       "╭──────────────────────────────────────────────────── \u001b[1m🔮 xAI\u001b[0m ─────────────────────────────────────────────────────╮\n",
       "│ \u001b[35m🟣 xAI:\u001b[0m                                                                                                         │\n",
       "│ \u001b[35mData analysis and data science, while closely related, serve different purposes within the realm of data \u001b[0m       │\n",
       "│ \u001b[35mmanagement and interpretation:\u001b[0m                                                                                  │\n",
       "│                                                                                                                 │\n",
       "│ \u001b[35m### **Data Analysis:**\u001b[0m                                                                                          │\n",
       "│                                                                                                                 │\n",
       "│ \u001b[35m1. **Scope**: Data analysis focuses on examining, cleaning, transforming, and modeling data to discover useful \u001b[0m │\n",
       "│ \u001b[35minformation, draw conclusions, and support decision-making. It's often more about understanding what has \u001b[0m       │\n",
       "│ \u001b[35mhappened.\u001b[0m                                                                                                       │\n",
       "│                                                                                                                 │\n",
       "│ \u001b[35m2. **Techniques**: It involves statistical methods, data visualization, and basic machine learning techniques \u001b[0m  │\n",
       "│ \u001b[35mto summarize data sets. Tools like Excel, SQL, and basic Python or R scripts are commonly used.\u001b[0m                 │\n",
       "│                                                                                                                 │\n",
       "│ \u001b[35m3. **Objective**: The primary goal is to answer specific questions or solve particular problems with data. This\u001b[0m │\n",
       "│ \u001b[35mcould involve:\u001b[0m                                                                                                  │\n",
       "│ \u001b[35m   - Descriptive Analysis: Summarizing the main characteristics of a data set.\u001b[0m                                  │\n",
       "│ \u001b[35m   - Diagnostic Analysis: Understanding why something happened by looking at patterns and relationships.\u001b[0m        │\n",
       "│                                                                                                                 │\n",
       "│ \u001b[35m4. **Skill Set**: Analysts need to be proficient in statistics, data manipulation, and visualization. They \u001b[0m     │\n",
       "│ \u001b[35moften work with structured data.\u001b[0m                                                                                │\n",
       "│                                                                                                                 │\n",
       "│ \u001b[35m5. **Outcome**: The results are usually reports, dashboards, or presentations that provide insights into past \u001b[0m  │\n",
       "│ \u001b[35mor current trends, behaviors, or outcomes.\u001b[0m                                                                      │\n",
       "│                                                                                                                 │\n",
       "│ \u001b[35m### **Data Science:**\u001b[0m                                                                                           │\n",
       "│                                                                                                                 │\n",
       "│ \u001b[35m1. **Scope**: Data science encompasses a broader range of activities, including data analysis but extending \u001b[0m    │\n",
       "│ \u001b[35minto predictive modeling, machine learning, and artificial intelligence. It's about predicting what will happen\u001b[0m │\n",
       "│ \u001b[35mor what could happen.\u001b[0m                                                                                           │\n",
       "│                                                                                                                 │\n",
       "│ \u001b[35m2. **Techniques**: Data scientists use advanced machine learning algorithms, deep learning, natural language \u001b[0m   │\n",
       "│ \u001b[35mprocessing, and big data technologies. They often deal with both structured and unstructured data.\u001b[0m              │\n",
       "│                                                                                                                 │\n",
       "│ \u001b[35m3. **Objective**: \u001b[0m                                                                                              │\n",
       "│ \u001b[35m   - Predictive Analysis: Forecasting future trends or behaviors.\u001b[0m                                               │\n",
       "│ \u001b[35m   - Prescriptive Analysis: Suggesting actions based on predictive models.\u001b[0m                                      │\n",
       "│ \u001b[35m   - Experimentation: Testing hypotheses through controlled experiments or A/B testing.\u001b[0m                         │\n",
       "│                                                                                                                 │\n",
       "│ \u001b[35m4. **Skill Set**: Requires a deep understanding of statistics, programming (Python, R, Scala), machine \u001b[0m         │\n",
       "│ \u001b[35mlearning, data engineering, and domain knowledge. Data scientists often need to handle large datasets and \u001b[0m      │\n",
       "│ \u001b[35mcomplex data pipelines.\u001b[0m                                                                                         │\n",
       "│                                                                                                                 │\n",
       "│ \u001b[35m5. **Outcome**: The outputs can be predictive models, algorithms, or systems that can automate decision-making \u001b[0m │\n",
       "│ \u001b[35mprocesses, optimize operations, or create new products/services. \u001b[0m                                               │\n",
       "│                                                                                                                 │\n",
       "│ \u001b[35m### **Key Differences:**\u001b[0m                                                                                        │\n",
       "│                                                                                                                 │\n",
       "│ \u001b[35m- **Depth vs. Breadth**: Data analysis might be seen as a subset of data science. Data science includes data \u001b[0m   │\n",
       "│ \u001b[35manalysis but goes beyond to include predictive modeling and advanced analytics.\u001b[0m                                 │\n",
       "│                                                                                                                 │\n",
       "│ \u001b[35m- **Focus**: Data analysis often focuses on historical data to understand what has happened, whereas data \u001b[0m      │\n",
       "│ \u001b[35mscience aims at using data to predict or influence future outcomes.\u001b[0m                                             │\n",
       "│                                                                                                                 │\n",
       "│ \u001b[35m- **Complexity**: Data science typically involves more complex algorithms\u001b[0m                                       │\n",
       "╰─────────────────────────────────────────────────────────────────────────────────────────────────────────────────╯\n"
      ]
     },
     "metadata": {},
     "output_type": "display_data"
    },
    {
     "data": {
      "text/html": [
       "<pre style=\"white-space:pre;overflow-x:auto;line-height:normal;font-family:Menlo,'DejaVu Sans Mono',consolas,'Courier New',monospace\">╭──────────────────────────────────╮\n",
       "│ <span style=\"color: #800080; text-decoration-color: #800080; font-weight: bold\">📊 === Consensus Analysis === 📊</span> │\n",
       "╰──────────────────────────────────╯\n",
       "</pre>\n"
      ],
      "text/plain": [
       "╭──────────────────────────────────╮\n",
       "│ \u001b[1;35m📊 === Consensus Analysis === 📊\u001b[0m │\n",
       "╰──────────────────────────────────╯\n"
      ]
     },
     "metadata": {},
     "output_type": "display_data"
    },
    {
     "data": {
      "text/markdown": [
       "Okay, let's analyze the consensus and disagreements among these three expert responses regarding the differences between Data Analysis and Data Science.\n",
       "\n",
       "**Consensus:**\n",
       "\n",
       "All three experts agree on the fundamental distinction between Data Analysis and Data Science, highlighting the following points:\n",
       "\n",
       "1.  **Data Analysis is more focused on the past and present, while Data Science is more focused on the future.**\n",
       "    *   OpenAI: \"Data analysis is more about interpreting existing data to provide insights... whereas data science is about creating systems that can learn from and make predictions based on data.\"\n",
       "    *   Anthropic: \"Analysis... answers 'What happened?' and 'Why did it happen?'\" vs. \"Science... answers 'What might happen next?' and 'How can we optimize?'\"\n",
       "    *   xAI: \"Data analysis often focuses on historical data to understand what has happened, whereas data science aims at using data to predict or influence future outcomes.\"\n",
       "\n",
       "2.  **Data Analysis is a subset of Data Science.**\n",
       "    *   OpenAI: \"While data analysis is a component of data science...\"\n",
       "    *   Anthropic: Implied by the \"superpowers\" analogy, where Data Science is more powerful.\n",
       "    *   xAI: \"Data analysis might be seen as a subset of data science.\"\n",
       "\n",
       "3.  **Data Analysis is more about understanding and explaining, while Data Science is more about predicting and optimizing.**\n",
       "    *   OpenAI: Data analysis extracts insights for decision-making, while data science creates predictive models.\n",
       "    *   Anthropic: Analysis is like a detective, while science is like an inventor.\n",
       "    *   xAI: Analysis focuses on descriptive and diagnostic analysis, while science focuses on predictive and prescriptive analysis.\n",
       "\n",
       "4.  **Data Analysis uses simpler techniques and tools, while Data Science uses more advanced techniques and tools.**\n",
       "    *   OpenAI: Analysis uses descriptive statistics, visualization, and tools like Excel and SQL. Science uses machine learning, deep learning, and programming languages like Python and R.\n",
       "    *   Anthropic: Analysis uses Excel, SQL, and basic stats. Science uses Python, R, and advanced ML frameworks.\n",
       "    *   xAI: Analysis uses basic stats, visualization, and tools like Excel and SQL. Science uses advanced ML, deep learning, and big data technologies.\n",
       "\n",
       "5.  **Data Analysis has a narrower scope, while Data Science has a broader scope.**\n",
       "    *   OpenAI: Analysis is more focused and specific, while science is broader and interdisciplinary.\n",
       "    *   Anthropic: Analysis has a narrow scope, while science has a broad scope.\n",
       "    *   xAI: Analysis focuses on examining, cleaning, and modeling data, while science encompasses a broader range of activities, including predictive modeling and AI.\n",
       "\n",
       "**Disagreements/Nuances:**\n",
       "\n",
       "While the core concepts are consistent, there are some minor differences in emphasis and phrasing:\n",
       "\n",
       "1.  **The \"Detective\" vs. \"Inventor\" Analogy:** Anthropic uses a creative analogy to differentiate the two, which is not explicitly used by the other experts. While effective, it's a stylistic difference rather than a disagreement on the core concepts.\n",
       "\n",
       "2.  **Specific Tool Mentions:** While all experts agree on the general types of tools used, there are slight variations in the specific tools mentioned. For example, OpenAI mentions BI software like Tableau and Power BI, while the others don't. This is not a disagreement but rather a difference in the level of detail.\n",
       "\n",
       "3.  **Emphasis on \"Automation\":** OpenAI and xAI explicitly mention that data science outcomes often involve automating decision-making processes, while Anthropic implies this through the \"inventor\" analogy but doesn't state it directly.\n",
       "\n",
       "4.  **\"Reactive\" vs. \"Proactive\" Approach:** OpenAI uses the terms \"reactive\" for data analysis and \"proactive\" for data science. While this is a valid way to frame the difference, the other experts don't use this specific terminology.\n",
       "\n",
       "**Summary of Disagreements:**\n",
       "\n",
       "The disagreements are not substantial. They are primarily differences in:\n",
       "\n",
       "*   **Style and Presentation:** The use of analogies and specific examples varies.\n",
       "*   **Level of Detail:** Some experts provide more specific examples of tools and techniques.\n",
       "*   **Emphasis:** Some experts emphasize certain aspects (e.g., automation) more than others.\n",
       "\n",
       "**Conclusion:**\n",
       "\n",
       "There is a strong consensus among the experts regarding the core differences between Data Analysis and Data Science. They all agree that Data Analysis is a more focused, descriptive, and historical-data-oriented field, while Data Science is a broader, predictive, and future-oriented field that encompasses Data Analysis. The minor differences in their responses are primarily stylistic or related to the level of detail, rather than fundamental disagreements."
      ],
      "text/plain": [
       "<IPython.core.display.Markdown object>"
      ]
     },
     "metadata": {},
     "output_type": "display_data"
    },
    {
     "name": "stdout",
     "output_type": "stream",
     "text": [
      "\n",
      "\n"
     ]
    },
    {
     "data": {
      "text/html": [
       "<pre style=\"white-space:pre;overflow-x:auto;line-height:normal;font-family:Menlo,'DejaVu Sans Mono',consolas,'Courier New',monospace\">╭───────────────────────────────╮\n",
       "│ <span style=\"color: #808000; text-decoration-color: #808000; font-weight: bold\">=== 🗺️ Charts and Mindmaps ===</span> │\n",
       "╰───────────────────────────────╯\n",
       "</pre>\n"
      ],
      "text/plain": [
       "╭───────────────────────────────╮\n",
       "│ \u001b[1;33m=== 🗺️ Charts and Mindmaps ===\u001b[0m │\n",
       "╰───────────────────────────────╯\n"
      ]
     },
     "metadata": {},
     "output_type": "display_data"
    },
    {
     "data": {
      "text/markdown": [
       "Okay, here are descriptions of charts or mindmaps that could represent the differences between Data Analysis and Data Science, based on the provided text:\n",
       "\n",
       "**Chart 1: Venn Diagram**\n",
       "\n",
       "*   **Description:** A Venn diagram with two overlapping circles. One circle is labeled \"Data Analysis\" and the other \"Data Science.\" The overlapping section represents shared skills and techniques (e.g., basic statistics, data visualization).\n",
       "*   **Data Analysis Circle:**  Includes points like \"Descriptive Statistics,\" \"SQL,\" \"Excel,\" \"Focus on Past,\" \"Specific Questions,\" \"Reports & Dashboards.\"\n",
       "*   **Data Science Circle:** Includes points like \"Machine Learning,\" \"Python/R,\" \"Predictive Modeling,\" \"Focus on Future,\" \"Complex Algorithms,\" \"Automated Systems.\"\n",
       "*   **Overlap:** Includes points like \"Data Cleaning,\" \"Data Visualization,\" \"Statistical Analysis,\" \"Domain Knowledge.\"\n",
       "*   **Purpose:** Visually shows that Data Analysis is a component of Data Science, but Data Science has a broader scope.\n",
       "\n",
       "**Chart 2: Comparison Table**\n",
       "\n",
       "*   **Description:** A table with two columns, \"Data Analysis\" and \"Data Science,\" and rows for different attributes.\n",
       "*   **Rows:**\n",
       "    *   **Objective:** (Data Analysis: \"Extract insights from past data,\" Data Science: \"Build predictive models for future\")\n",
       "    *   **Scope:** (Data Analysis: \"Focused, specific,\" Data Science: \"Broad, interdisciplinary\")\n",
       "    *   **Techniques:** (Data Analysis: \"Descriptive stats, EDA, SQL,\" Data Science: \"ML, NLP, Deep Learning\")\n",
       "    *   **Outcome:** (Data Analysis: \"Reports, visualizations,\" Data Science: \"Models, algorithms\")\n",
       "    *   **Skill Set:** (Data Analysis: \"Stats, data cleaning, visualization,\" Data Science: \"Programming, ML, data engineering\")\n",
       "    *   **Approach:** (Data Analysis: \"Reactive,\" Data Science: \"Proactive\")\n",
       "    *   **Complexity:** (Data Analysis: \"Moderate,\" Data Science: \"High\")\n",
       "    *   **Predictive Power:** (Data Analysis: \"Limited,\" Data Science: \"Extensive\")\n",
       "*   **Purpose:** Clearly outlines the key differences in a structured format.\n",
       "\n",
       "**Chart 3: Mind Map**\n",
       "\n",
       "*   **Description:** A central node labeled \"Data\" with two main branches: \"Data Analysis\" and \"Data Science.\"\n",
       "*   **Data Analysis Branch:**\n",
       "    *   Sub-branches: \"Objective (Understand Past),\" \"Scope (Specific),\" \"Techniques (Descriptive, SQL),\" \"Outcome (Reports),\" \"Skills (Stats, Visualization),\" \"Approach (Reactive)\"\n",
       "    *   Example tools: Excel, Tableau, Power BI\n",
       "*   **Data Science Branch:**\n",
       "    *   Sub-branches: \"Objective (Predict Future),\" \"Scope (Broad),\" \"Techniques (ML, Python/R),\" \"Outcome (Models),\" \"Skills (Programming, ML),\" \"Approach (Proactive)\"\n",
       "    *   Example tools: Python, R, TensorFlow, PyTorch\n",
       "*   **Purpose:** Shows the hierarchical relationship and the different aspects of each field in a visual way.\n",
       "\n",
       "**Chart 4:  Process Flow Diagram**\n",
       "\n",
       "*   **Description:** A diagram showing a linear flow, starting with \"Data Collection,\" then splitting into two paths: \"Data Analysis\" and \"Data Science.\"\n",
       "*   **Data Analysis Path:** \"Data Cleaning\" -> \"Exploratory Analysis\" -> \"Visualization\" -> \"Insights & Reporting\"\n",
       "*   **Data Science Path:** \"Data Cleaning\" -> \"Feature Engineering\" -> \"Model Building\" -> \"Model Evaluation\" -> \"Deployment & Automation\"\n",
       "*   **Purpose:** Illustrates the different processes and steps involved in each field.\n",
       "\n",
       "**Chart 5:  Metaphorical Comparison**\n",
       "\n",
       "*   **Description:** Two side-by-side images or icons. One representing a detective (for Data Analysis) and the other representing a futuristic inventor (for Data Science).\n",
       "*   **Detective (Data Analysis):**  \"Focus on solving mysteries in data,\" \"Uses existing tools,\" \"Answers 'What happened?'\"\n",
       "*   **Inventor (Data Science):** \"Builds predictive models,\" \"Creates innovative techniques,\" \"Answers 'What might happen next?'\"\n",
       "*   **Purpose:** Uses a visual metaphor to highlight the different roles and approaches.\n",
       "\n",
       "These descriptions should provide a good starting point for visualizing the differences between Data Analysis and Data Science. Each chart type offers a different perspective and can be chosen based on the specific needs of the audience."
      ],
      "text/plain": [
       "<IPython.core.display.Markdown object>"
      ]
     },
     "metadata": {},
     "output_type": "display_data"
    },
    {
     "name": "stdout",
     "output_type": "stream",
     "text": [
      "\n",
      "\n"
     ]
    },
    {
     "data": {
      "text/html": [
       "<pre style=\"white-space:pre;overflow-x:auto;line-height:normal;font-family:Menlo,'DejaVu Sans Mono',consolas,'Courier New',monospace\">╭───────────────────────────╮\n",
       "│ <span style=\"color: #808000; text-decoration-color: #808000; font-weight: bold\">=== 🔧 Analysis Tools ===</span> │\n",
       "╰───────────────────────────╯\n",
       "</pre>\n"
      ],
      "text/plain": [
       "╭───────────────────────────╮\n",
       "│ \u001b[1;33m=== 🔧 Analysis Tools ===\u001b[0m │\n",
       "╰───────────────────────────╯\n"
      ]
     },
     "metadata": {},
     "output_type": "display_data"
    },
    {
     "data": {
      "text/markdown": [
       "Okay, let's analyze these three descriptions of Data Analysis vs. Data Science.\n",
       "\n",
       "## Sentiment Analysis\n",
       "\n",
       "Overall, all three descriptions present a **neutral and informative** tone. They aim to educate the reader on the differences between the two fields without expressing any strong positive or negative opinions about either. The language used is objective and descriptive.\n",
       "\n",
       "*   **OpenAI:** Uses a straightforward, factual tone.\n",
       "*   **Anthropic:** Employs a more creative and engaging tone, using metaphors like \"detective\" and \"visionary inventor,\" but still maintains a neutral sentiment.\n",
       "*   **xAI:** Adopts a formal and structured tone, similar to OpenAI, focusing on clear definitions and distinctions.\n",
       "\n",
       "## Bias Detection\n",
       "\n",
       "There is no significant bias detected in any of the three descriptions. They all attempt to present a balanced view of both data analysis and data science, highlighting their respective strengths and purposes.\n",
       "\n",
       "*   **No Favoritism:** None of the descriptions favor one field over the other. They acknowledge that both are valuable and serve different needs.\n",
       "*   **No Stereotyping:** There are no stereotypes or generalizations that could be considered biased.\n",
       "*   **Balanced Language:** The language used is neutral and avoids any loaded terms that could suggest one field is superior.\n",
       "\n",
       "## Uncertainty Highlighting\n",
       "\n",
       "There is minimal uncertainty expressed in these descriptions, which is appropriate given their purpose of providing clear definitions. However, some subtle points could be considered areas of potential nuance:\n",
       "\n",
       "*   **\"Often\" and \"Typically\":** Words like \"often\" and \"typically\" are used to describe common practices and tools. This acknowledges that there can be exceptions or variations in how these fields are applied.\n",
       "    *   **Example (xAI):** \"It's *often* more about understanding what has happened.\"\n",
       "*   **\"Can be seen as a subset\":** xAI's description notes that data analysis \"might be seen as a subset of data science.\" This acknowledges that the relationship between the two fields can be interpreted in different ways.\n",
       "*   **\"More\" vs. \"Less\":** The use of \"more\" and \"less\" to describe the scope, complexity, and predictive power of each field implies a spectrum rather than a strict dichotomy. This suggests that there can be overlap and that the boundaries are not always clear-cut.\n",
       "    *   **Example (Anthropic):** \"Analysis (Moderate) vs Science (High)\"\n",
       "\n",
       "These subtle qualifiers are not signs of uncertainty in the sense of not knowing, but rather an acknowledgement of the complexity and fluidity of these fields.\n",
       "\n",
       "## Jargon Explanation\n",
       "\n",
       "Here's a breakdown of some of the jargon used and their explanations:\n",
       "\n",
       "*   **Descriptive Statistics:** (All) Summarizing and describing the main features of a dataset using measures like mean, median, mode, and standard deviation.\n",
       "*   **Data Visualization:** (All) Representing data graphically to make it easier to understand and identify patterns.\n",
       "*   **Exploratory Data Analysis (EDA):** (OpenAI) An approach to analyzing data sets to summarize their main characteristics, often with visual methods.\n",
       "*   **SQL:** (All) Structured Query Language, a programming language used for managing and querying data in databases.\n",
       "*   **BI Software:** (OpenAI) Business Intelligence software, tools used for data analysis and reporting (e.g., Tableau, Power BI).\n",
       "*   **Machine Learning:** (All) A type of artificial intelligence that allows computer systems to learn from data without being explicitly programmed.\n",
       "*   **Predictive Modeling:** (All) Using statistical techniques to predict future outcomes based on historical data.\n",
       "*   **Natural Language Processing (NLP):** (OpenAI, xAI) A field of AI that enables computers to understand, interpret, and generate human language.\n",
       "*   **Deep Learning:** (OpenAI, xAI) A subset of machine learning that uses artificial neural networks with multiple layers to analyze data.\n",
       "*   **Python and R:** (All) Popular programming languages used in data science and statistical analysis.\n",
       "*   **TensorFlow and PyTorch:** (OpenAI) Open-source machine learning libraries.\n",
       "*   **Big Data Technologies:** (OpenAI, xAI) Tools and techniques for processing and analyzing large and complex datasets.\n",
       "*   **A/B Testing:** (xAI) A method of comparing two versions of something to determine which performs better.\n",
       "*   **Structured Data:** (xAI) Data that is organized in a predefined format, such as tables in a database.\n",
       "*   **Unstructured Data:** (xAI) Data that does not have a predefined format, such as text, images, and videos.\n",
       "*   **Data Engineering:** (OpenAI, xAI) The process of building and maintaining the infrastructure for data collection, storage, and processing.\n",
       "*   **Algorithms:** (All) A set of rules or instructions that a computer follows"
      ],
      "text/plain": [
       "<IPython.core.display.Markdown object>"
      ]
     },
     "metadata": {},
     "output_type": "display_data"
    },
    {
     "name": "stdout",
     "output_type": "stream",
     "text": [
      "\n",
      "\n"
     ]
    },
    {
     "data": {
      "text/html": [
       "<pre style=\"white-space:pre;overflow-x:auto;line-height:normal;font-family:Menlo,'DejaVu Sans Mono',consolas,'Courier New',monospace\">╭──────────────────────────────╮\n",
       "│ <span style=\"color: #808000; text-decoration-color: #808000; font-weight: bold\">=== ❓ Related Questions ===</span> │\n",
       "╰──────────────────────────────╯\n",
       "</pre>\n"
      ],
      "text/plain": [
       "╭──────────────────────────────╮\n",
       "│ \u001b[1;33m=== ❓ Related Questions ===\u001b[0m │\n",
       "╰──────────────────────────────╯\n"
      ]
     },
     "metadata": {},
     "output_type": "display_data"
    },
    {
     "data": {
      "text/markdown": [
       "Okay, this is a great comparison of data analysis and data science from three different perspectives! Here are some related questions to encourage deeper learning and critical thinking about the nuances of these fields:\n",
       "\n",
       "**Questions about the Core Concepts:**\n",
       "\n",
       "1.  **Beyond the Basics:** The texts mention descriptive and diagnostic analysis. What are some other types of analysis (e.g., inferential, causal) and how do they fit into the data analysis/data science spectrum?\n",
       "2.  **The \"Why\" Behind the \"What\":**  All three texts mention that data analysis focuses on \"what happened\" and \"why.\" How can data analysis techniques be used to establish causality, and what are the limitations?\n",
       "3.  **The Spectrum of Prediction:** Data science is described as predictive. How do different types of predictive models (e.g., regression, classification, time series) fit into the data science workflow?\n",
       "4.  **The Role of Domain Knowledge:** How important is domain knowledge in both data analysis and data science? Can you give examples of how a lack of domain knowledge can lead to flawed conclusions?\n",
       "5.  **The Ethics of Prediction:** Given that data science is often used for prediction, what are some ethical considerations that data scientists need to be aware of?\n",
       "\n",
       "**Questions about Techniques and Tools:**\n",
       "\n",
       "6.  **Beyond the Basics:** The texts mention tools like Excel, SQL, Python, and R. What are some other tools and technologies used in data analysis and data science (e.g., cloud platforms, big data tools, specialized libraries)?\n",
       "7.  **The Power of Visualization:** How does data visualization play a role in both data analysis and data science? What are some best practices for creating effective visualizations?\n",
       "8.  **The Data Pipeline:** The xAI text mentions \"data pipelines.\" What are data pipelines, and why are they important in data science?\n",
       "9.  **The Role of Machine Learning:** The texts mention machine learning. What are some common machine learning algorithms, and how are they used in data science?\n",
       "10. **The \"Black Box\" Problem:** How can data scientists ensure that their models are interpretable and not just \"black boxes\" that produce predictions without explanation?\n",
       "\n",
       "**Questions about the Practical Application:**\n",
       "\n",
       "11. **Real-World Examples:** Can you provide real-world examples of projects that would be considered data analysis vs. data science?\n",
       "12. **The Overlap:** Where do the lines between data analysis and data science blur? Are there situations where the same project might involve both?\n",
       "13. **Career Paths:** How do the skills and responsibilities of a data analyst differ from those of a data scientist? What are some typical career paths in each field?\n",
       "14. **The \"Citizen Data Scientist\":** With the rise of user-friendly tools, is it possible for non-technical people to perform data analysis or even some aspects of data science? What are the limitations?\n",
       "15. **The Future of Data:** How do you see the fields of data analysis and data science evolving in the future? What new skills and technologies might become important?\n",
       "\n",
       "**Questions that Encourage Critical Thinking:**\n",
       "\n",
       "16. **The \"Detective\" vs. \"Inventor\" Analogy:** How accurate and helpful are the analogies used by Anthropic (detective vs. inventor)? What are the strengths and weaknesses of these analogies?\n",
       "17. **The \"Depth vs. Breadth\" Argument:** Is the \"depth vs. breadth\" distinction between data analysis and data science always accurate? Are there situations where data analysis can be very complex and require deep expertise?\n",
       "18. **The \"Reactive\" vs. \"Proactive\" Argument:** Is it always true that data analysis is reactive and data science is proactive? Can data analysis be used to proactively identify opportunities?\n",
       "19. **The \"Value\" of Each Field:** Which field is more valuable to an organization? Is it possible to have a successful organization without both data analysis and data science capabilities?\n",
       "20. **The \"Democratization\" of Data:** How can we ensure that the power of data analysis and data science is used for good and not to exacerbate existing inequalities?\n",
       "\n",
       "These questions should help to explore the topic in more depth and encourage a more nuanced understanding of the differences and relationships between data analysis and data science. They also touch on some of the ethical and practical considerations that are important in these fields."
      ],
      "text/plain": [
       "<IPython.core.display.Markdown object>"
      ]
     },
     "metadata": {},
     "output_type": "display_data"
    },
    {
     "name": "stdout",
     "output_type": "stream",
     "text": [
      "\n",
      "\n"
     ]
    },
    {
     "data": {
      "text/html": [
       "<pre style=\"white-space:pre;overflow-x:auto;line-height:normal;font-family:Menlo,'DejaVu Sans Mono',consolas,'Courier New',monospace\">╭──────────────────────────╮\n",
       "│ <span style=\"color: #808000; text-decoration-color: #808000; font-weight: bold\">=== 🧠 Meta Analysis ===</span> │\n",
       "╰──────────────────────────╯\n",
       "</pre>\n"
      ],
      "text/plain": [
       "╭──────────────────────────╮\n",
       "│ \u001b[1;33m=== 🧠 Meta Analysis ===\u001b[0m │\n",
       "╰──────────────────────────╯\n"
      ]
     },
     "metadata": {},
     "output_type": "display_data"
    },
    {
     "data": {
      "text/markdown": [
       "Okay, let's analyze the provided content from OpenAI, Anthropic, and xAI regarding the differences between Data Analysis and Data Science.\n",
       "\n",
       "**Overall Quality Assessment:**\n",
       "\n",
       "All three sources provide a good overview of the differences between data analysis and data science. They generally agree on the core distinctions, but each offers a slightly different perspective and emphasis.\n",
       "\n",
       "**Pattern Recognition and Specific Observations:**\n",
       "\n",
       "1.  **Agreement on Core Differences:**\n",
       "    *   All three sources agree that **data analysis** is more focused on understanding *past* data and extracting insights, while **data science** is more about *predicting the future* and building models.\n",
       "    *   They all acknowledge that data science is a broader field that *includes* data analysis.\n",
       "    *   They all highlight the difference in **techniques**, with data analysis using more basic statistical methods and visualization, while data science uses advanced machine learning and programming.\n",
       "    *   They all agree on the difference in **outcomes**, with data analysis producing reports and visualizations, and data science producing models and algorithms.\n",
       "\n",
       "2.  **Unique Perspectives:**\n",
       "    *   **OpenAI:** Provides a structured, point-by-point comparison, focusing on objectives, scope, techniques, outcomes, skill sets, and approach. It's very clear and concise.\n",
       "    *   **Anthropic:** Uses a creative analogy of a \"detective\" (data analysis) vs. a \"visionary inventor\" (data science). This makes the concepts more relatable and memorable. It also emphasizes the \"superpowers\" of each discipline.\n",
       "    *   **xAI:** Offers a more detailed breakdown of the objectives within each field (e.g., descriptive vs. diagnostic analysis in data analysis, predictive vs. prescriptive analysis in data science). It also highlights the difference in data types (structured vs. unstructured).\n",
       "\n",
       "3.  **Strengths of Each Source:**\n",
       "    *   **OpenAI:** Excellent for a clear, structured, and comprehensive overview. Good for someone who wants a direct comparison.\n",
       "    *   **Anthropic:** Great for making the concepts more engaging and easy to understand through the use of analogies. Good for a general audience.\n",
       "    *   **xAI:** Provides a more in-depth look at the specific types of analysis and the skills required. Good for someone who wants a more technical understanding.\n",
       "\n",
       "4.  **Minor Differences in Emphasis:**\n",
       "    *   **Anthropic** emphasizes the \"complexity\" difference more explicitly than the other two.\n",
       "    *   **xAI** emphasizes the \"depth vs. breadth\" aspect, positioning data analysis as a subset of data science.\n",
       "\n",
       "5.  **Consistency in Key Terms:**\n",
       "    *   All three sources consistently use terms like \"descriptive statistics,\" \"machine learning,\" \"predictive modeling,\" \"data visualization,\" and \"algorithms.\" This indicates a shared understanding of the core concepts.\n",
       "\n",
       "**Recommendations:**\n",
       "\n",
       "*   **For a quick, clear overview:** OpenAI's structured approach is excellent.\n",
       "*   **For a more engaging and memorable explanation:** Anthropic's analogy-based approach is very effective.\n",
       "*   **For a more detailed and technical understanding:** xAI's breakdown of objectives and skills is valuable.\n",
       "\n",
       "**Conclusion:**\n",
       "\n",
       "The three sources provide a high-quality and consistent explanation of the differences between data analysis and data science. They complement each other well, offering different perspectives and levels of detail. The content is accurate, well-organized, and easy to understand. There are no significant contradictions or errors. The use of different styles (structured, analogy-based, detailed) makes the information accessible to a wider audience."
      ],
      "text/plain": [
       "<IPython.core.display.Markdown object>"
      ]
     },
     "metadata": {},
     "output_type": "display_data"
    },
    {
     "name": "stdout",
     "output_type": "stream",
     "text": [
      "\n",
      "\n"
     ]
    }
   ],
   "source": [
    "query_example = \"Explain how Data analysis and data science are different\"\n",
    "async def main():\n",
    "    results = await run_full_workflow(query_example)\n",
    "    display_results(results, query_example)\n",
    "\n",
    "await main()"
   ]
  },
  {
   "cell_type": "code",
   "execution_count": null,
   "id": "8d607617-c6d2-434c-9c1a-f61bdc08d09e",
   "metadata": {
    "ExecuteTime": {
     "end_time": "2025-01-14T06:55:58.121519Z",
     "start_time": "2025-01-14T06:55:58.118718Z"
    }
   },
   "outputs": [],
   "source": []
  },
  {
   "cell_type": "code",
   "execution_count": null,
   "id": "7f1c85bbea54b144",
   "metadata": {},
   "outputs": [],
   "source": []
  },
  {
   "cell_type": "code",
   "execution_count": null,
   "id": "649b2fcef8a32d22",
   "metadata": {},
   "outputs": [],
   "source": []
  }
 ],
 "metadata": {
  "kernelspec": {
   "display_name": "Python 3 (ipykernel)",
   "language": "python",
   "name": "python3"
  },
  "language_info": {
   "codemirror_mode": {
    "name": "ipython",
    "version": 3
   },
   "file_extension": ".py",
   "mimetype": "text/x-python",
   "name": "python",
   "nbconvert_exporter": "python",
   "pygments_lexer": "ipython3",
   "version": "3.13.1"
  }
 },
 "nbformat": 4,
 "nbformat_minor": 5
}
